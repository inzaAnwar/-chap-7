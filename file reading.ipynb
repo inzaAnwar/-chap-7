{
 "cells": [
  {
   "cell_type": "code",
   "execution_count": null,
   "id": "d2966866",
   "metadata": {},
   "outputs": [],
   "source": [
    "# open()fun\n",
    "a = open(r'C:\\Users\\bismilla\\Desktop\\3rd semester\\Expert System & appiled AI\\LabWorkFolder\\chp 7\\chap7WorkFIle', 'r')\n"
   ]
  },
  {
   "cell_type": "code",
   "execution_count": 12,
   "id": "c3b914d6",
   "metadata": {},
   "outputs": [
    {
     "name": "stdout",
     "output_type": "stream",
     "text": [
      "Hello\n",
      "world\n",
      "11\n",
      "I\n",
      "J\n"
     ]
    },
    {
     "data": {
      "text/plain": [
       "3"
      ]
     },
     "execution_count": 12,
     "metadata": {},
     "output_type": "execute_result"
    }
   ],
   "source": [
    "#\\n newline function\n",
    "a='Hello\\nworld'\n",
    "a\n",
    "print(a)\n",
    "print(len(a))\n",
    "\n",
    "b='I\\nJ'\n",
    "print(b)\n",
    "len(b)"
   ]
  },
  {
   "cell_type": "code",
   "execution_count": null,
   "id": "1a98ef64",
   "metadata": {},
   "outputs": [],
   "source": [
    "#for using in file to check one by one each line and find words\n",
    "a=open('file name')\n",
    "for inza in a:\n",
    "    print(inza)"
   ]
  },
  {
   "cell_type": "code",
   "execution_count": null,
   "id": "7c4d7c51",
   "metadata": {},
   "outputs": [],
   "source": [
    "#count the lines of the files\n",
    "a=open(\"file name\")\n",
    "count=0\n",
    "for i in a:\n",
    "    count=0+1\n",
    "print(\"total lines in files\",count)"
   ]
  },
  {
   "cell_type": "code",
   "execution_count": null,
   "id": "1b72e7e6",
   "metadata": {},
   "outputs": [],
   "source": [
    "#read whole file as a single string\n",
    "a=open(\"file name\")\n",
    "b=a.read()\n",
    "print(len(b))\n",
    "print(b[:20])"
   ]
  },
  {
   "cell_type": "code",
   "execution_count": null,
   "id": "10e58e44",
   "metadata": {},
   "outputs": [],
   "source": [
    "#sreachimg in file and also strip fun use for whitespaces\n",
    "a=open(\"file name\")\n",
    "for line in a:\n",
    "    line=line.rstrip()\n",
    "    if line startwith('from')\n",
    "    print(line)"
   ]
  },
  {
   "cell_type": "code",
   "execution_count": null,
   "id": "65061fcc",
   "metadata": {},
   "outputs": [],
   "source": [
    "a=open(\"file name\")\n",
    "for line in a:\n",
    "    line=line.rstrip()\n",
    "    if not '@inza'in line:\n",
    "        continue\n",
    "print(line)"
   ]
  }
 ],
 "metadata": {
  "kernelspec": {
   "display_name": "Python 3 (ipykernel)",
   "language": "python",
   "name": "python3"
  },
  "language_info": {
   "codemirror_mode": {
    "name": "ipython",
    "version": 3
   },
   "file_extension": ".py",
   "mimetype": "text/x-python",
   "name": "python",
   "nbconvert_exporter": "python",
   "pygments_lexer": "ipython3",
   "version": "3.10.9"
  }
 },
 "nbformat": 4,
 "nbformat_minor": 5
}
